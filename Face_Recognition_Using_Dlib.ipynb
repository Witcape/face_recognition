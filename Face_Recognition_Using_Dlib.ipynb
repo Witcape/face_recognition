{
  "nbformat": 4,
  "nbformat_minor": 0,
  "metadata": {
    "colab": {
      "provenance": [],
      "gpuType": "T4",
      "authorship_tag": "ABX9TyMk2kaMh8RfMYG0AujNrYZw",
      "include_colab_link": true
    },
    "kernelspec": {
      "name": "python3",
      "display_name": "Python 3"
    },
    "language_info": {
      "name": "python"
    },
    "accelerator": "GPU"
  },
  "cells": [
    {
      "cell_type": "markdown",
      "metadata": {
        "id": "view-in-github",
        "colab_type": "text"
      },
      "source": [
        "<a href=\"https://colab.research.google.com/github/Witcape/face_recognition/blob/main/Face_Recognition_Using_Dlib.ipynb\" target=\"_parent\"><img src=\"https://colab.research.google.com/assets/colab-badge.svg\" alt=\"Open In Colab\"/></a>"
      ]
    },
    {
      "cell_type": "code",
      "execution_count": 1,
      "metadata": {
        "id": "rEpNKuXxGlwn"
      },
      "outputs": [],
      "source": [
        "import dlib\n",
        "import cv2\n",
        "import os\n",
        "import numpy as np"
      ]
    },
    {
      "cell_type": "code",
      "source": [
        "from google.colab import drive\n",
        "drive.mount('/content/drive')"
      ],
      "metadata": {
        "colab": {
          "base_uri": "https://localhost:8080/"
        },
        "id": "8iwxZyJjZRIF",
        "outputId": "e2936904-5b8c-4011-a482-0af82e4a1b61"
      },
      "execution_count": 2,
      "outputs": [
        {
          "output_type": "stream",
          "name": "stdout",
          "text": [
            "Mounted at /content/drive\n"
          ]
        }
      ]
    },
    {
      "cell_type": "code",
      "source": [
        "face_detector = dlib.get_frontal_face_detector()\n",
        "face_encoder = dlib.face_recognition_model_v1(\"/content/drive/MyDrive/face_recog/dlib_face_recognition_resnet_model_v1.dat\")\n",
        "shape_predictor = dlib.shape_predictor(\"/content/drive/MyDrive/face_recog/shape_predictor_68_face_landmarks.dat\")"
      ],
      "metadata": {
        "id": "fZFVNfuLHnAY"
      },
      "execution_count": 9,
      "outputs": []
    },
    {
      "cell_type": "code",
      "source": [
        "image_path_1 = '/content/drive/MyDrive/face_recog/photo1.jpg'\n",
        "image_path_2 = '/content/drive/MyDrive/face_recog/photo3.jpg'\n",
        "image_1 = cv2.imread(image_path_1)\n",
        "image_2 = cv2.imread(image_path_2)"
      ],
      "metadata": {
        "id": "ELH3vaqDHp--"
      },
      "execution_count": 10,
      "outputs": []
    },
    {
      "cell_type": "code",
      "source": [
        "face_locations_1 = face_detector(image_1, 1)\n",
        "face_locations_2 = face_detector(image_2, 1)"
      ],
      "metadata": {
        "id": "wPuaFvW9HrqZ"
      },
      "execution_count": 11,
      "outputs": []
    },
    {
      "cell_type": "code",
      "source": [
        "face_descriptors_1 = [face_encoder.compute_face_descriptor(image_1, shape_predictor(image_1, face_location)) for face_location in face_locations_1]\n",
        "face_descriptors_2 = [face_encoder.compute_face_descriptor(image_2, shape_predictor(image_2, face_location)) for face_location in face_locations_2]"
      ],
      "metadata": {
        "id": "syiL0WDJae93"
      },
      "execution_count": 12,
      "outputs": []
    },
    {
      "cell_type": "code",
      "source": [
        "face_distance = [np.linalg.norm(np.array(face_descriptor_1) - np.array(face_descriptor_2)) for face_descriptor_1, face_descriptor_2 in zip(face_descriptors_1, face_descriptors_2)]\n",
        "if all(distance < 0.6 for distance in face_distance):\n",
        "    print(\"The two faces are similar.\")\n",
        "else:\n",
        "    print(\"The two faces are not similar.\")"
      ],
      "metadata": {
        "colab": {
          "base_uri": "https://localhost:8080/"
        },
        "id": "lxSlcHfRLcDV",
        "outputId": "f3cf6cbb-d4b9-4a2f-e18c-f1a984350cf4"
      },
      "execution_count": 13,
      "outputs": [
        {
          "output_type": "stream",
          "name": "stdout",
          "text": [
            "The two faces are not similar.\n"
          ]
        }
      ]
    },
    {
      "cell_type": "code",
      "source": [],
      "metadata": {
        "id": "tW39HQ_bMGRf"
      },
      "execution_count": null,
      "outputs": []
    }
  ]
}